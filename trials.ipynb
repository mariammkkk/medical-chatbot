{
 "cells": [
  {
   "cell_type": "code",
   "execution_count": 1,
   "metadata": {},
   "outputs": [
    {
     "name": "stdout",
     "output_type": "stream",
     "text": [
      "OK!\n"
     ]
    }
   ],
   "source": [
    "print(\"OK!\")"
   ]
  },
  {
   "cell_type": "code",
   "execution_count": 2,
   "metadata": {},
   "outputs": [
    {
     "name": "stderr",
     "output_type": "stream",
     "text": [
      "/Users/mariamkhan/miniconda3/envs/medichat/lib/python3.8/site-packages/pinecone/data/index.py:1: TqdmWarning: IProgress not found. Please update jupyter and ipywidgets. See https://ipywidgets.readthedocs.io/en/stable/user_install.html\n",
      "  from tqdm.autonotebook import tqdm\n"
     ]
    }
   ],
   "source": [
    "from langchain import PromptTemplate\n",
    "from langchain.chains import RetrievalQA\n",
    "from langchain.embeddings import HuggingFaceEmbeddings\n",
    "from langchain.vectorstores import Pinecone\n",
    "import pinecone\n",
    "from langchain.document_loaders import PyPDFLoader, DirectoryLoader\n",
    "from langchain.text_splitter import RecursiveCharacterTextSplitter\n",
    "from langchain.prompts import PromptTemplate\n",
    "from langchain.llms import CTransformers"
   ]
  },
  {
   "cell_type": "code",
   "execution_count": 3,
   "metadata": {},
   "outputs": [],
   "source": [
    "PINECONE_API_KEY = \"66367e34-3b2a-4338-9ab0-3dd29d310d67\"\n",
    "PINECONE_API_ENV = \"us-east-1\""
   ]
  },
  {
   "cell_type": "code",
   "execution_count": 4,
   "metadata": {},
   "outputs": [],
   "source": [
    "# Extract data from the PDF file\n",
    "def load_pdf(data):\n",
    "    loader = DirectoryLoader(data,\n",
    "                    glob=\"*.pdf\",\n",
    "                    loader_cls=PyPDFLoader)\n",
    "    documents = loader.load()\n",
    "\n",
    "    return documents"
   ]
  },
  {
   "cell_type": "code",
   "execution_count": 5,
   "metadata": {},
   "outputs": [],
   "source": [
    "extracted_data = load_pdf(\"data/\")"
   ]
  },
  {
   "cell_type": "code",
   "execution_count": 6,
   "metadata": {},
   "outputs": [],
   "source": [
    "# loads all the data as documents\n",
    "# extracted_data"
   ]
  },
  {
   "cell_type": "code",
   "execution_count": 7,
   "metadata": {},
   "outputs": [],
   "source": [
    "# Creating text chunks\n",
    "def text_split(extracted_data):\n",
    "    text_splitter = RecursiveCharacterTextSplitter(chunk_size = 500, chunk_overlap = 20)\n",
    "    text_chunks = text_splitter.split_documents(extracted_data)\n",
    "\n",
    "    return text_chunks"
   ]
  },
  {
   "cell_type": "code",
   "execution_count": 8,
   "metadata": {},
   "outputs": [
    {
     "name": "stdout",
     "output_type": "stream",
     "text": [
      "Length of my chunk:  5860\n"
     ]
    }
   ],
   "source": [
    "text_chunks = text_split(extracted_data)\n",
    "print(\"Length of my chunk: \", len(text_chunks))"
   ]
  },
  {
   "cell_type": "code",
   "execution_count": 9,
   "metadata": {},
   "outputs": [],
   "source": [
    "# text_chunks"
   ]
  },
  {
   "cell_type": "code",
   "execution_count": 10,
   "metadata": {},
   "outputs": [],
   "source": [
    "# Download embedding model\n",
    "def download_hugging_face_embeddings():\n",
    "    embeddings = HuggingFaceEmbeddings(model_name= \"sentence-transformers/all-MiniLM-L6-v2\")\n",
    "    return embeddings"
   ]
  },
  {
   "cell_type": "code",
   "execution_count": 11,
   "metadata": {},
   "outputs": [
    {
     "name": "stderr",
     "output_type": "stream",
     "text": [
      "Downloading: 100%|██████████| 1.23k/1.23k [00:00<00:00, 1.83MB/s]\n",
      "Downloading: 100%|██████████| 190/190 [00:00<00:00, 1.14MB/s]\n",
      "Downloading: 100%|██████████| 10.7k/10.7k [00:00<00:00, 10.8MB/s]\n",
      "Downloading: 100%|██████████| 612/612 [00:00<00:00, 1.61MB/s]\n",
      "Downloading: 100%|██████████| 116/116 [00:00<00:00, 572kB/s]\n",
      "Downloading: 100%|██████████| 39.3k/39.3k [00:00<00:00, 13.3MB/s]\n",
      "Downloading: 100%|██████████| 90.9M/90.9M [00:01<00:00, 53.2MB/s]\n",
      "Downloading: 100%|██████████| 90.4M/90.4M [00:01<00:00, 56.1MB/s]\n",
      "Downloading: 100%|██████████| 90.4M/90.4M [00:01<00:00, 55.6MB/s]\n",
      "Downloading: 100%|██████████| 90.3M/90.3M [00:01<00:00, 56.2MB/s]\n",
      "Downloading: 100%|██████████| 90.3M/90.3M [00:01<00:00, 59.5MB/s]\n",
      "Downloading: 100%|██████████| 45.2M/45.2M [00:00<00:00, 48.8MB/s]\n",
      "Downloading: 100%|██████████| 23.0M/23.0M [00:00<00:00, 46.6MB/s]\n",
      "Downloading: 100%|██████████| 23.0M/23.0M [00:00<00:00, 46.5MB/s]\n",
      "Downloading: 100%|██████████| 23.0M/23.0M [00:00<00:00, 42.7MB/s]\n",
      "Downloading: 100%|██████████| 23.0M/23.0M [00:00<00:00, 49.1MB/s]\n",
      "Downloading: 100%|██████████| 90.3M/90.3M [00:01<00:00, 59.2MB/s]\n",
      "Downloading: 100%|██████████| 211k/211k [00:00<00:00, 4.20MB/s]\n",
      "Downloading: 100%|██████████| 22.9M/22.9M [00:00<00:00, 45.9MB/s]\n",
      "Downloading: 100%|██████████| 368k/368k [00:00<00:00, 5.58MB/s]\n",
      "Downloading: 100%|██████████| 90.9M/90.9M [00:01<00:00, 59.3MB/s]\n",
      "Downloading: 100%|██████████| 53.0/53.0 [00:00<00:00, 114kB/s]\n",
      "Downloading: 100%|██████████| 112/112 [00:00<00:00, 222kB/s]\n",
      "Downloading: 100%|██████████| 466k/466k [00:00<00:00, 6.07MB/s]\n",
      "Downloading: 100%|██████████| 350/350 [00:00<00:00, 471kB/s]\n",
      "Downloading: 100%|██████████| 13.2k/13.2k [00:00<00:00, 13.8MB/s]\n",
      "Downloading: 100%|██████████| 232k/232k [00:00<00:00, 4.79MB/s]\n",
      "Downloading: 100%|██████████| 349/349 [00:00<00:00, 548kB/s]\n"
     ]
    }
   ],
   "source": [
    "embeddings = download_hugging_face_embeddings()"
   ]
  },
  {
   "cell_type": "code",
   "execution_count": null,
   "metadata": {},
   "outputs": [],
   "source": []
  }
 ],
 "metadata": {
  "kernelspec": {
   "display_name": "Python 3",
   "language": "python",
   "name": "python3"
  },
  "language_info": {
   "codemirror_mode": {
    "name": "ipython",
    "version": 3
   },
   "file_extension": ".py",
   "mimetype": "text/x-python",
   "name": "python",
   "nbconvert_exporter": "python",
   "pygments_lexer": "ipython3",
   "version": "3.8.20"
  },
  "orig_nbformat": 4
 },
 "nbformat": 4,
 "nbformat_minor": 2
}
